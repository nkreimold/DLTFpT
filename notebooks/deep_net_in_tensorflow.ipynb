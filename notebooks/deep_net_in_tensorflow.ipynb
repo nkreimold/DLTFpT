{
 "cells": [
  {
   "cell_type": "markdown",
   "metadata": {},
   "source": [
    "# Deep Neural Network in TensorFlow"
   ]
  },
  {
   "cell_type": "markdown",
   "metadata": {},
   "source": [
    "In this notebook, we improve on our [intermediate neural net](https://github.com/jonkrohn/DLTFpT/blob/master/notebooks/intermediate_net_in_tensorflow.ipynb) by incorporating the theory we've covered since."
   ]
  },
  {
   "cell_type": "markdown",
   "metadata": {},
   "source": [
    "[![Open In Colab](https://colab.research.google.com/assets/colab-badge.svg)](https://colab.research.google.com/github/nkreimold/DLTFpT/blob/master/notebooks/deep_net_in_tensorflow.ipynb)"
   ]
  },
  {
   "cell_type": "markdown",
   "metadata": {},
   "source": [
    "#### Load dependencies"
   ]
  },
  {
   "cell_type": "code",
   "execution_count": 2,
   "metadata": {
    "scrolled": true
   },
   "outputs": [],
   "source": [
    "import tensorflow\n",
    "from tensorflow.keras.datasets import mnist\n",
    "from tensorflow.keras.utils import to_categorical\n",
    "from tensorflow.keras.models import Sequential\n",
    "from tensorflow.keras.layers import Dense\n",
    "from tensorflow.keras.layers import Dropout # new!\n",
    "from tensorflow.keras.layers import BatchNormalization # new!\n",
    "from tensorflow.keras.optimizers import SGD\n",
    "from matplotlib import pyplot as plt"
   ]
  },
  {
   "cell_type": "markdown",
   "metadata": {},
   "source": [
    "#### Load data"
   ]
  },
  {
   "cell_type": "code",
   "execution_count": 3,
   "metadata": {
    "scrolled": true
   },
   "outputs": [],
   "source": [
    "(X_train, y_train), (X_valid, y_valid) = mnist.load_data()"
   ]
  },
  {
   "cell_type": "markdown",
   "metadata": {},
   "source": [
    "#### Preprocess data"
   ]
  },
  {
   "cell_type": "code",
   "execution_count": 4,
   "metadata": {},
   "outputs": [],
   "source": [
    "X_train = X_train.reshape(60000, 784).astype('float32')\n",
    "X_valid = X_valid.reshape(10000, 784).astype('float32')"
   ]
  },
  {
   "cell_type": "code",
   "execution_count": 5,
   "metadata": {},
   "outputs": [],
   "source": [
    "X_train /= 255\n",
    "X_valid /= 255"
   ]
  },
  {
   "cell_type": "code",
   "execution_count": 6,
   "metadata": {},
   "outputs": [],
   "source": [
    "n_classes = 10\n",
    "y_train = to_categorical(y_train, n_classes)\n",
    "y_valid = to_categorical(y_valid, n_classes)"
   ]
  },
  {
   "cell_type": "markdown",
   "metadata": {},
   "source": [
    "#### Design neural network architecture"
   ]
  },
  {
   "cell_type": "code",
   "execution_count": 7,
   "metadata": {},
   "outputs": [],
   "source": [
    "model = Sequential()\n",
    "#the more neurons you have the more chances you have at being sucessful- more computationally expensive\n",
    "#as few layers and as few neurons as you can for the problem\n",
    "\n",
    "model.add(Dense(64, activation='relu', input_shape=(784,)))#64 relu neurons\n",
    "model.add(BatchNormalization())\n",
    "\n",
    "model.add(Dense(64, activation='relu'))\n",
    "model.add(BatchNormalization())\n",
    "\n",
    "model.add(Dense(64, activation='relu'))\n",
    "model.add(BatchNormalization())\n",
    "model.add(Dropout(0.2))#dropout 20% of neurons- more important on later layers becuase simpler features are easier to memorize\n",
    "\n",
    "model.add(Dense(10, activation='softmax'))#10 neurons bc 10 classes"
   ]
  },
  {
   "cell_type": "code",
   "execution_count": 8,
   "metadata": {},
   "outputs": [
    {
     "name": "stdout",
     "output_type": "stream",
     "text": [
      "Model: \"sequential\"\n",
      "_________________________________________________________________\n",
      "Layer (type)                 Output Shape              Param #   \n",
      "=================================================================\n",
      "dense (Dense)                (None, 64)                50240     \n",
      "_________________________________________________________________\n",
      "batch_normalization (BatchNo (None, 64)                256       \n",
      "_________________________________________________________________\n",
      "dense_1 (Dense)              (None, 64)                4160      \n",
      "_________________________________________________________________\n",
      "batch_normalization_1 (Batch (None, 64)                256       \n",
      "_________________________________________________________________\n",
      "dense_2 (Dense)              (None, 64)                4160      \n",
      "_________________________________________________________________\n",
      "batch_normalization_2 (Batch (None, 64)                256       \n",
      "_________________________________________________________________\n",
      "dropout (Dropout)            (None, 64)                0         \n",
      "_________________________________________________________________\n",
      "dense_3 (Dense)              (None, 10)                650       \n",
      "=================================================================\n",
      "Total params: 59,978\n",
      "Trainable params: 59,594\n",
      "Non-trainable params: 384\n",
      "_________________________________________________________________\n"
     ]
    }
   ],
   "source": [
    "model.summary()"
   ]
  },
  {
   "cell_type": "markdown",
   "metadata": {},
   "source": [
    "#### Configure model"
   ]
  },
  {
   "cell_type": "code",
   "execution_count": 9,
   "metadata": {},
   "outputs": [],
   "source": [
    "model.compile(loss='categorical_crossentropy', optimizer='nadam', metrics=['accuracy'])"
   ]
  },
  {
   "cell_type": "markdown",
   "metadata": {},
   "source": [
    "#### Train!"
   ]
  },
  {
   "cell_type": "code",
   "execution_count": 10,
   "metadata": {},
   "outputs": [
    {
     "name": "stdout",
     "output_type": "stream",
     "text": [
      "Train on 60000 samples, validate on 10000 samples\n",
      "Epoch 1/20\n",
      "60000/60000 [==============================] - 4s 60us/sample - loss: 0.3950 - accuracy: 0.8835 - val_loss: 0.1669 - val_accuracy: 0.9488\n",
      "Epoch 2/20\n",
      "60000/60000 [==============================] - 2s 28us/sample - loss: 0.1508 - accuracy: 0.9554 - val_loss: 0.1105 - val_accuracy: 0.9655\n",
      "Epoch 3/20\n",
      "60000/60000 [==============================] - 2s 37us/sample - loss: 0.1130 - accuracy: 0.9657 - val_loss: 0.1017 - val_accuracy: 0.9668\n",
      "Epoch 4/20\n",
      "60000/60000 [==============================] - 2s 26us/sample - loss: 0.0905 - accuracy: 0.9727 - val_loss: 0.0977 - val_accuracy: 0.9696\n",
      "Epoch 5/20\n",
      "60000/60000 [==============================] - 2s 33us/sample - loss: 0.0764 - accuracy: 0.9760 - val_loss: 0.0875 - val_accuracy: 0.9736\n",
      "Epoch 6/20\n",
      "60000/60000 [==============================] - 2s 39us/sample - loss: 0.0695 - accuracy: 0.9786 - val_loss: 0.0817 - val_accuracy: 0.9753\n",
      "Epoch 7/20\n",
      "60000/60000 [==============================] - 2s 33us/sample - loss: 0.0606 - accuracy: 0.9806 - val_loss: 0.0890 - val_accuracy: 0.9731\n",
      "Epoch 8/20\n",
      "60000/60000 [==============================] - 2s 32us/sample - loss: 0.0534 - accuracy: 0.9826 - val_loss: 0.0812 - val_accuracy: 0.9749\n",
      "Epoch 9/20\n",
      "60000/60000 [==============================] - 2s 26us/sample - loss: 0.0480 - accuracy: 0.9848 - val_loss: 0.0807 - val_accuracy: 0.9758\n",
      "Epoch 10/20\n",
      "60000/60000 [==============================] - 2s 29us/sample - loss: 0.0433 - accuracy: 0.9857 - val_loss: 0.0850 - val_accuracy: 0.9746\n",
      "Epoch 11/20\n",
      "60000/60000 [==============================] - 2s 26us/sample - loss: 0.0383 - accuracy: 0.9875 - val_loss: 0.0783 - val_accuracy: 0.9777\n",
      "Epoch 12/20\n",
      "60000/60000 [==============================] - 1s 24us/sample - loss: 0.0350 - accuracy: 0.9887 - val_loss: 0.0920 - val_accuracy: 0.9734\n",
      "Epoch 13/20\n",
      "60000/60000 [==============================] - 1s 24us/sample - loss: 0.0342 - accuracy: 0.9891 - val_loss: 0.0855 - val_accuracy: 0.9754\n",
      "Epoch 14/20\n",
      "60000/60000 [==============================] - 1s 24us/sample - loss: 0.0323 - accuracy: 0.9892 - val_loss: 0.0881 - val_accuracy: 0.9751\n",
      "Epoch 15/20\n",
      "60000/60000 [==============================] - 2s 27us/sample - loss: 0.0325 - accuracy: 0.9894 - val_loss: 0.0909 - val_accuracy: 0.9753\n",
      "Epoch 16/20\n",
      "60000/60000 [==============================] - 2s 27us/sample - loss: 0.0270 - accuracy: 0.9908 - val_loss: 0.0940 - val_accuracy: 0.9754\n",
      "Epoch 17/20\n",
      "60000/60000 [==============================] - 1s 25us/sample - loss: 0.0261 - accuracy: 0.9914 - val_loss: 0.0906 - val_accuracy: 0.9759\n",
      "Epoch 18/20\n",
      "60000/60000 [==============================] - 1s 25us/sample - loss: 0.0237 - accuracy: 0.9920 - val_loss: 0.0991 - val_accuracy: 0.9728\n",
      "Epoch 19/20\n",
      "60000/60000 [==============================] - 1s 23us/sample - loss: 0.0216 - accuracy: 0.9927 - val_loss: 0.0906 - val_accuracy: 0.9763\n",
      "Epoch 20/20\n",
      "60000/60000 [==============================] - 1s 23us/sample - loss: 0.0218 - accuracy: 0.9927 - val_loss: 0.0982 - val_accuracy: 0.9762\n"
     ]
    },
    {
     "data": {
      "text/plain": [
       "<tensorflow.python.keras.callbacks.History at 0x14e168710>"
      ]
     },
     "execution_count": 10,
     "metadata": {},
     "output_type": "execute_result"
    }
   ],
   "source": [
    "model.fit(X_train, y_train, batch_size=128, epochs=20, verbose=1, validation_data=(X_valid, y_valid))"
   ]
  },
  {
   "cell_type": "markdown",
   "metadata": {},
   "source": [
    "#### Performing inference"
   ]
  },
  {
   "cell_type": "code",
   "execution_count": 11,
   "metadata": {},
   "outputs": [],
   "source": [
    "valid_0 = X_valid[0].reshape(1, 784)"
   ]
  },
  {
   "cell_type": "code",
   "execution_count": 12,
   "metadata": {},
   "outputs": [
    {
     "data": {
      "text/plain": [
       "array([[1.6771468e-10, 2.2822368e-09, 6.8983539e-09, 3.2858380e-09,\n",
       "        1.1981141e-09, 2.7598518e-10, 1.0235155e-10, 9.9999964e-01,\n",
       "        4.3706716e-10, 3.9559251e-07]], dtype=float32)"
      ]
     },
     "execution_count": 12,
     "metadata": {},
     "output_type": "execute_result"
    }
   ],
   "source": [
    "model.predict(valid_0)"
   ]
  },
  {
   "cell_type": "code",
   "execution_count": 13,
   "metadata": {},
   "outputs": [
    {
     "data": {
      "text/plain": [
       "array([7])"
      ]
     },
     "execution_count": 13,
     "metadata": {},
     "output_type": "execute_result"
    }
   ],
   "source": [
    "model.predict_classes(valid_0)"
   ]
  },
  {
   "cell_type": "code",
   "execution_count": null,
   "metadata": {},
   "outputs": [],
   "source": []
  }
 ],
 "metadata": {
  "kernelspec": {
   "display_name": "Python 3",
   "language": "python",
   "name": "python3"
  },
  "language_info": {
   "codemirror_mode": {
    "name": "ipython",
    "version": 3
   },
   "file_extension": ".py",
   "mimetype": "text/x-python",
   "name": "python",
   "nbconvert_exporter": "python",
   "pygments_lexer": "ipython3",
   "version": "3.7.4"
  }
 },
 "nbformat": 4,
 "nbformat_minor": 4
}
